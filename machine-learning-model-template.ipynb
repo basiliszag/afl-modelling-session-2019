{
 "cells": [
  {
   "cell_type": "markdown",
   "metadata": {},
   "source": [
    "# Introduction\n",
    "This tutorial will walk you through how to create your own basic AFL model, using publicly available data. The output will be the odds for each team to win. The aim of this tutorial is not to teach you how to code; but rather for someone with very little programming experience to understand exactly what is being done.\n",
    "\n",
    "For tutorials on Python, and data science, I highly recommend checking out [Datacamp](https://www.datacamp.com/) or [Dataquest](https://www.dataquest.io/). These are free resources that will provide you with the basics of Python and data science fundamentals.\n",
    "\n",
    "The tutorial will be relatively short. For the full process of a typical data science project, feel free to read any of the predictive model walkthroughs on [Betfair's Github](https://github.com/betfair-datascientists/predictive-models)."
   ]
  },
  {
   "cell_type": "markdown",
   "metadata": {},
   "source": [
    "## Read in The Data\n",
    "First, we will read in the data and explore the columns within the dataset. I have condensed the columns down to some key statistics for simplicity, but full AFL datasets are available using the [fitzRoy](https://github.com/jimmyday12/fitzRoy) R package or elsewhere online.\n",
    "\n",
    "I have collated the data and we will only use a subset of that data for this presentation. Specifically, we'll use the median supercoach score and the elos of each team as features in the model."
   ]
  },
  {
   "cell_type": "code",
   "execution_count": 23,
   "metadata": {},
   "outputs": [],
   "source": [
    "# Import libraries\n",
    "import pandas as pd\n",
    "import h2o\n",
    "from h2o.automl import H2OAutoML"
   ]
  },
  {
   "cell_type": "code",
   "execution_count": 24,
   "metadata": {},
   "outputs": [],
   "source": [
    "# Read in the data\n",
    "afl = pd.read_csv('afl_modelling.csv')"
   ]
  },
  {
   "cell_type": "code",
   "execution_count": 26,
   "metadata": {},
   "outputs": [
    {
     "data": {
      "text/html": [
       "<div>\n",
       "<style scoped>\n",
       "    .dataframe tbody tr th:only-of-type {\n",
       "        vertical-align: middle;\n",
       "    }\n",
       "\n",
       "    .dataframe tbody tr th {\n",
       "        vertical-align: top;\n",
       "    }\n",
       "\n",
       "    .dataframe thead th {\n",
       "        text-align: right;\n",
       "    }\n",
       "</style>\n",
       "<table border=\"1\" class=\"dataframe\">\n",
       "  <thead>\n",
       "    <tr style=\"text-align: right;\">\n",
       "      <th></th>\n",
       "      <th>date</th>\n",
       "      <th>game_id</th>\n",
       "      <th>season</th>\n",
       "      <th>round</th>\n",
       "      <th>venue</th>\n",
       "      <th>team_1</th>\n",
       "      <th>team_2</th>\n",
       "      <th>home_team_1</th>\n",
       "      <th>margin</th>\n",
       "      <th>winner</th>\n",
       "      <th>supercoach_1</th>\n",
       "      <th>supercoach_2</th>\n",
       "      <th>elo_1</th>\n",
       "      <th>elo_2</th>\n",
       "    </tr>\n",
       "  </thead>\n",
       "  <tbody>\n",
       "    <tr>\n",
       "      <th>1363</th>\n",
       "      <td>2019-03-21</td>\n",
       "      <td>1364</td>\n",
       "      <td>2019</td>\n",
       "      <td>1</td>\n",
       "      <td>M.C.G.</td>\n",
       "      <td>Carlton</td>\n",
       "      <td>Richmond</td>\n",
       "      <td>1</td>\n",
       "      <td>-33</td>\n",
       "      <td>0</td>\n",
       "      <td>76.0</td>\n",
       "      <td>74.5</td>\n",
       "      <td>1192.232026</td>\n",
       "      <td>1661.503449</td>\n",
       "    </tr>\n",
       "    <tr>\n",
       "      <th>1364</th>\n",
       "      <td>2019-03-22</td>\n",
       "      <td>1365</td>\n",
       "      <td>2019</td>\n",
       "      <td>1</td>\n",
       "      <td>M.C.G.</td>\n",
       "      <td>Collingwood</td>\n",
       "      <td>Geelong</td>\n",
       "      <td>1</td>\n",
       "      <td>-7</td>\n",
       "      <td>0</td>\n",
       "      <td>78.0</td>\n",
       "      <td>87.0</td>\n",
       "      <td>1527.182906</td>\n",
       "      <td>1544.244870</td>\n",
       "    </tr>\n",
       "    <tr>\n",
       "      <th>1365</th>\n",
       "      <td>2019-03-23</td>\n",
       "      <td>1366</td>\n",
       "      <td>2019</td>\n",
       "      <td>1</td>\n",
       "      <td>Adelaide Oval</td>\n",
       "      <td>Adelaide</td>\n",
       "      <td>Hawthorn</td>\n",
       "      <td>1</td>\n",
       "      <td>-32</td>\n",
       "      <td>0</td>\n",
       "      <td>72.0</td>\n",
       "      <td>72.0</td>\n",
       "      <td>1583.123031</td>\n",
       "      <td>1594.130262</td>\n",
       "    </tr>\n",
       "    <tr>\n",
       "      <th>1366</th>\n",
       "      <td>2019-03-23</td>\n",
       "      <td>1367</td>\n",
       "      <td>2019</td>\n",
       "      <td>1</td>\n",
       "      <td>Gabba</td>\n",
       "      <td>Brisbane</td>\n",
       "      <td>West Coast</td>\n",
       "      <td>1</td>\n",
       "      <td>44</td>\n",
       "      <td>1</td>\n",
       "      <td>85.0</td>\n",
       "      <td>64.5</td>\n",
       "      <td>1272.898111</td>\n",
       "      <td>1550.133198</td>\n",
       "    </tr>\n",
       "    <tr>\n",
       "      <th>1367</th>\n",
       "      <td>2019-03-23</td>\n",
       "      <td>1368</td>\n",
       "      <td>2019</td>\n",
       "      <td>1</td>\n",
       "      <td>Docklands</td>\n",
       "      <td>Sydney</td>\n",
       "      <td>Western Bulldogs</td>\n",
       "      <td>0</td>\n",
       "      <td>-17</td>\n",
       "      <td>0</td>\n",
       "      <td>84.0</td>\n",
       "      <td>68.5</td>\n",
       "      <td>1635.928361</td>\n",
       "      <td>1467.294962</td>\n",
       "    </tr>\n",
       "    <tr>\n",
       "      <th>1368</th>\n",
       "      <td>2019-03-23</td>\n",
       "      <td>1369</td>\n",
       "      <td>2019</td>\n",
       "      <td>1</td>\n",
       "      <td>M.C.G.</td>\n",
       "      <td>Port Adelaide Power</td>\n",
       "      <td>Melbourne</td>\n",
       "      <td>0</td>\n",
       "      <td>26</td>\n",
       "      <td>1</td>\n",
       "      <td>74.5</td>\n",
       "      <td>64.5</td>\n",
       "      <td>1504.777529</td>\n",
       "      <td>1566.884537</td>\n",
       "    </tr>\n",
       "    <tr>\n",
       "      <th>1369</th>\n",
       "      <td>2019-03-24</td>\n",
       "      <td>1370</td>\n",
       "      <td>2019</td>\n",
       "      <td>1</td>\n",
       "      <td>Sydney Showground</td>\n",
       "      <td>Essendon</td>\n",
       "      <td>GWS</td>\n",
       "      <td>0</td>\n",
       "      <td>-72</td>\n",
       "      <td>0</td>\n",
       "      <td>55.5</td>\n",
       "      <td>84.0</td>\n",
       "      <td>1485.319903</td>\n",
       "      <td>1605.717735</td>\n",
       "    </tr>\n",
       "    <tr>\n",
       "      <th>1370</th>\n",
       "      <td>2019-03-24</td>\n",
       "      <td>1371</td>\n",
       "      <td>2019</td>\n",
       "      <td>1</td>\n",
       "      <td>Docklands</td>\n",
       "      <td>St Kilda</td>\n",
       "      <td>Gold Coast</td>\n",
       "      <td>1</td>\n",
       "      <td>1</td>\n",
       "      <td>1</td>\n",
       "      <td>84.5</td>\n",
       "      <td>79.5</td>\n",
       "      <td>1378.118006</td>\n",
       "      <td>1202.430331</td>\n",
       "    </tr>\n",
       "    <tr>\n",
       "      <th>1371</th>\n",
       "      <td>2019-03-24</td>\n",
       "      <td>1372</td>\n",
       "      <td>2019</td>\n",
       "      <td>1</td>\n",
       "      <td>Perth Stadium</td>\n",
       "      <td>North Melbourne</td>\n",
       "      <td>Fremantle</td>\n",
       "      <td>0</td>\n",
       "      <td>-82</td>\n",
       "      <td>0</td>\n",
       "      <td>72.0</td>\n",
       "      <td>74.5</td>\n",
       "      <td>1425.514864</td>\n",
       "      <td>1457.565917</td>\n",
       "    </tr>\n",
       "  </tbody>\n",
       "</table>\n",
       "</div>"
      ],
      "text/plain": [
       "            date  game_id  season  round              venue  \\\n",
       "1363  2019-03-21     1364    2019      1             M.C.G.   \n",
       "1364  2019-03-22     1365    2019      1             M.C.G.   \n",
       "1365  2019-03-23     1366    2019      1      Adelaide Oval   \n",
       "1366  2019-03-23     1367    2019      1              Gabba   \n",
       "1367  2019-03-23     1368    2019      1          Docklands   \n",
       "1368  2019-03-23     1369    2019      1             M.C.G.   \n",
       "1369  2019-03-24     1370    2019      1  Sydney Showground   \n",
       "1370  2019-03-24     1371    2019      1          Docklands   \n",
       "1371  2019-03-24     1372    2019      1      Perth Stadium   \n",
       "\n",
       "                   team_1            team_2  home_team_1  margin  winner  \\\n",
       "1363              Carlton          Richmond            1     -33       0   \n",
       "1364          Collingwood           Geelong            1      -7       0   \n",
       "1365             Adelaide          Hawthorn            1     -32       0   \n",
       "1366             Brisbane        West Coast            1      44       1   \n",
       "1367               Sydney  Western Bulldogs            0     -17       0   \n",
       "1368  Port Adelaide Power         Melbourne            0      26       1   \n",
       "1369             Essendon               GWS            0     -72       0   \n",
       "1370             St Kilda        Gold Coast            1       1       1   \n",
       "1371      North Melbourne         Fremantle            0     -82       0   \n",
       "\n",
       "      supercoach_1  supercoach_2        elo_1        elo_2  \n",
       "1363          76.0          74.5  1192.232026  1661.503449  \n",
       "1364          78.0          87.0  1527.182906  1544.244870  \n",
       "1365          72.0          72.0  1583.123031  1594.130262  \n",
       "1366          85.0          64.5  1272.898111  1550.133198  \n",
       "1367          84.0          68.5  1635.928361  1467.294962  \n",
       "1368          74.5          64.5  1504.777529  1566.884537  \n",
       "1369          55.5          84.0  1485.319903  1605.717735  \n",
       "1370          84.5          79.5  1378.118006  1202.430331  \n",
       "1371          72.0          74.5  1425.514864  1457.565917  "
      ]
     },
     "execution_count": 26,
     "metadata": {},
     "output_type": "execute_result"
    }
   ],
   "source": [
    "# Look at the last 9 rows\n",
    "afl.tail(9)"
   ]
  },
  {
   "cell_type": "markdown",
   "metadata": {},
   "source": [
    "As we can see, we have the median supercoach scores for each team, as well as the margin, result and each team's Elo score before the game. Let's take a quick look at the correlation between median supercoach scores and Elo scores with margin, so we can see if these look like they could be good predictors of margin/winning."
   ]
  },
  {
   "cell_type": "code",
   "execution_count": 28,
   "metadata": {},
   "outputs": [
    {
     "data": {
      "text/plain": [
       "game_id        -0.006955\n",
       "season         -0.011825\n",
       "round           0.036840\n",
       "home_team_1     0.139195\n",
       "margin          1.000000\n",
       "winner          0.792105\n",
       "supercoach_1    0.749591\n",
       "supercoach_2   -0.743541\n",
       "elo_1           0.394782\n",
       "elo_2          -0.384503\n",
       "Name: margin, dtype: float64"
      ]
     },
     "execution_count": 28,
     "metadata": {},
     "output_type": "execute_result"
    }
   ],
   "source": [
    "# Check the correlations of our columns to margin\n",
    "afl.corr().margin"
   ]
  },
  {
   "cell_type": "markdown",
   "metadata": {},
   "source": [
    "It looks like supercoach and Elo are highly correlated with margin. These could be quality predictors of margin/winning. However, we need to ensure that we only use statistics that we have access to before the game. Currently we're using supercoach scores from after the game. This leaks the result. Instead we need to use average supercoach scores from <i>previous games</i> to predict the <i>current game</i>.\n",
    "\n",
    "## Feature Creation\n",
    "A \"feature\" is the stat in the data which we believe will allow our model to predict the outcome better. For example, we can use Elo as a feature because it will obviously allow the model to learn that higher Elos are more likely to beat low Elos.\n",
    "\n",
    "We're only going to use two features in this model: Elo for each team, and average supercoach scores over the past 10 games.\n",
    "\n",
    "Let's calculate the average supercoach score for each team for their past 10 matches. To do this, we need to reshape the data from having two teams on each row to only one team on each row (similar to going from a wide dataframe to a long dataframe). We can then find each team's average supercoach scores for the past 10 matches, and then join these stats back to our original dataframe.\n",
    "\n",
    "### Convert DataFrame from Wide to Long\n",
    "We need to reshape the dataframe by appending the team 2's data to team 1's data. This is because if use the current shape to calculate moving averages for the home team, we won't include the games where the team plays away. The image below depicts how we will be reshaping the data.\n",
    "\n",
    "![Wide to Long](wide_to_long.png \"Wide to Long\")"
   ]
  },
  {
   "cell_type": "code",
   "execution_count": 11,
   "metadata": {},
   "outputs": [],
   "source": [
    "# Split the dataframe from wide to long\n",
    "\n",
    "# Get team 1's stats in a dataframe\n",
    "\n",
    "# Get team 2's stats in a dataframe\n",
    "\n",
    "# Append these dataframes together to get a long dataframe"
   ]
  },
  {
   "cell_type": "code",
   "execution_count": 12,
   "metadata": {},
   "outputs": [],
   "source": [
    "# View the last 5 rows of the long df"
   ]
  },
  {
   "cell_type": "markdown",
   "metadata": {},
   "source": [
    "## Calculating Moving Averages for Supercoach Scores\n",
    "As you can see, we now have a dataframe with one team on each row. Let's calculate the average supercoach score for each team over the past 10 games. This piece of code groups the data by the team and then calculates a \"rolling\" average (an average over a certain amount of games) for the last 10 games. It then shifts the data up so as to not include the current game in the calculations."
   ]
  },
  {
   "cell_type": "code",
   "execution_count": 13,
   "metadata": {},
   "outputs": [],
   "source": [
    "# Create supercoach average for the last 10 games played. Call it supercoach_average_last_10"
   ]
  },
  {
   "cell_type": "markdown",
   "metadata": {},
   "source": [
    "Now let's look at each team's average last 10 supercoach."
   ]
  },
  {
   "cell_type": "code",
   "execution_count": 14,
   "metadata": {},
   "outputs": [],
   "source": [
    "# Look at each team's last average 10 supercoach scores and order it from highest to lowest"
   ]
  },
  {
   "cell_type": "markdown",
   "metadata": {},
   "source": [
    "As we can see, the top sides generally have a higher supercoach average, whereas the bottom sides like Gold Coast, have a lower average supercoach score. Essendon are at the top as they are natually a high scoring supercoach team and also had a strong last 10 games of the 2018 season. Richmond are next, which is expected as they were favourites going into the finals. Our data doesn't include 2018 finals. If it did, we could expect Collingwood and West Coast to be higher up the ladder supercoach average ladder.\n",
    "\n",
    "## Join Features To Original DataFrame\n",
    "Let's now merge these average stats back to our original dataframe and use them to create a simple machine learning model. We will then predict the first round of 2019, to see what our model would've given us."
   ]
  },
  {
   "cell_type": "code",
   "execution_count": 15,
   "metadata": {},
   "outputs": [],
   "source": [
    "# Put dataframe back into individual rows"
   ]
  },
  {
   "cell_type": "code",
   "execution_count": 16,
   "metadata": {},
   "outputs": [],
   "source": [
    "# View last 5 rows"
   ]
  },
  {
   "cell_type": "markdown",
   "metadata": {},
   "source": [
    "## Modelling With H2O\n",
    "Now that we have our features (elo for each team and average supercoach score), let's create a model. To simplify things, we're going to use H2O's AutoML function, which automatically creates many models, tunes each model and returns the best model with the highest/lowest metric. For example, if you want a model to be created based on the highest accuracy of choosing the winner, you could use accuracy as your metric. First, let's create a training set, which is the data which the model will be \"trained\" on. We will then use the model to predict the first round of 2019. "
   ]
  },
  {
   "cell_type": "code",
   "execution_count": 17,
   "metadata": {},
   "outputs": [],
   "source": [
    "# Initialise h2o session\n",
    "\n",
    "# Create a training set - all the data up to 2018"
   ]
  },
  {
   "cell_type": "code",
   "execution_count": 18,
   "metadata": {},
   "outputs": [],
   "source": [
    "# Create an AutoML object\n",
    "\n",
    "# Train the model"
   ]
  },
  {
   "cell_type": "code",
   "execution_count": 19,
   "metadata": {},
   "outputs": [],
   "source": [
    "# Predict the first round"
   ]
  },
  {
   "cell_type": "code",
   "execution_count": 20,
   "metadata": {},
   "outputs": [],
   "source": [
    "# View the round 1 predictions"
   ]
  },
  {
   "cell_type": "code",
   "execution_count": 21,
   "metadata": {},
   "outputs": [],
   "source": [
    "# Add the round 1 predictions to the test dataframe"
   ]
  },
  {
   "cell_type": "code",
   "execution_count": 22,
   "metadata": {},
   "outputs": [],
   "source": [
    "# View the predictions"
   ]
  }
 ],
 "metadata": {
  "kernelspec": {
   "display_name": "Python 3",
   "language": "python",
   "name": "python3"
  },
  "language_info": {
   "codemirror_mode": {
    "name": "ipython",
    "version": 3
   },
   "file_extension": ".py",
   "mimetype": "text/x-python",
   "name": "python",
   "nbconvert_exporter": "python",
   "pygments_lexer": "ipython3",
   "version": "3.6.4"
  },
  "toc": {
   "base_numbering": 1,
   "nav_menu": {},
   "number_sections": true,
   "sideBar": true,
   "skip_h1_title": false,
   "title_cell": "Table of Contents",
   "title_sidebar": "Contents",
   "toc_cell": false,
   "toc_position": {},
   "toc_section_display": true,
   "toc_window_display": false
  }
 },
 "nbformat": 4,
 "nbformat_minor": 2
}
